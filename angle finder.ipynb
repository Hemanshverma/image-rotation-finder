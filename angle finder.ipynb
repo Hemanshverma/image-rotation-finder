{
 "cells": [
  {
   "cell_type": "code",
   "execution_count": 1,
   "metadata": {},
   "outputs": [],
   "source": [
    "# calculate angle of rotation between 2 images\n",
    "PI=3.14\n",
    "\n",
    "def calculate_angle(image1,image2,p1=0,p2=10):\n",
    "    \"\"\"\n",
    "    used to calcualte the angle of rotation of an image given the \n",
    "    original image\n",
    "    params:\n",
    "    image1: Path of original image\n",
    "    iamge2: Path of rotated image\n",
    "    \"\"\"\n",
    "    #load images\n",
    "    original = imread(image1, cv2.IMREAD_GRAYSCALE)\n",
    "    rotated = imread(image2, cv2.IMREAD_GRAYSCALE)\n",
    "    sift = cv2.xfeatures2d.SIFT_create()\n",
    "    #get key points and description of image\n",
    "    kp1, des1 = sift.detectAndCompute(original, None)\n",
    "    kp2, des2 = sift.detectAndCompute(rotated, None)\n",
    "    # creating matcher object\n",
    "    bf = cv2.BFMatcher(cv2.NORM_L1,crossCheck=False)\n",
    "    matches = bf.match(des1,des2)\n",
    "    # sorted matches on the basis of distance\n",
    "    matches = sorted(matches, key=lambda x: x.distance)\n",
    "    # calculating rotation images\n",
    "    m1=matches[p1]\n",
    "    m2=matches[p2]\n",
    "    p11,p21=kp1[m1.queryIdx].pt,kp2[m1.trainIdx].pt\n",
    "    p12,p22=kp1[m2.queryIdx].pt,kp2[m2.trainIdx].pt\n",
    "    deltaY = p12[1] - p11[1]\n",
    "    deltaX = p12[0]- p11[0]\n",
    "    angleInDegrees1 = (atan2(deltaY,deltaX) * 180 )/ PI\n",
    "    deltaY = p22[1] - p21[1]\n",
    "    deltaX = p22[0]- p21[0]\n",
    "    angleInDegrees2 = (atan2(deltaY,deltaX) * 180 )/ PI\n",
    "    res=angleInDegrees1-angleInDegrees2\n",
    "    return res\n",
    "    \n"
   ]
  },
  {
   "cell_type": "code",
   "execution_count": null,
   "metadata": {},
   "outputs": [],
   "source": [
    "# usage\n",
    "from cv2 import imread\n",
    "import cv2\n",
    "from math import atan2\n",
    "path1='a.jpg'\n",
    "path2='a1.jpg'\n",
    "calculate_angle(path1,path2)"
   ]
  }
 ],
 "metadata": {
  "kernelspec": {
   "display_name": "Python 3",
   "language": "python",
   "name": "python3"
  },
  "language_info": {
   "codemirror_mode": {
    "name": "ipython",
    "version": 3
   },
   "file_extension": ".py",
   "mimetype": "text/x-python",
   "name": "python",
   "nbconvert_exporter": "python",
   "pygments_lexer": "ipython3",
   "version": "3.6.9"
  }
 },
 "nbformat": 4,
 "nbformat_minor": 2
}
